{
 "cells": [
  {
   "cell_type": "code",
   "execution_count": 22,
   "id": "0e8bdf9e-4f43-4299-bb18-ff4d3c117a21",
   "metadata": {},
   "outputs": [
    {
     "name": "stdout",
     "output_type": "stream",
     "text": [
      "[1, 2, 3, 'quatre', 5.36]\n",
      "[1, 2, 3, 'quatre', 5.36]\n",
      "1\n",
      "[1, 2, 3, 'quatre', 5.36, 6]\n",
      "[1, 2, 3, 5.36, 6]\n",
      "[1, 2, 'nvl_element', 3, 5.36, 6]\n",
      "[1, 'nvl_element', 3, 5.36, 6]\n",
      "1\n",
      "True\n",
      "5\n"
     ]
    }
   ],
   "source": [
    "#Les listes:\n",
    "#Les listes sont difinies par \"[]\"\n",
    "\n",
    "#Les éléments d'une liste peuvent étre de types différents\n",
    "ma_liste = [1, 6, 54, \"TEST\", 5.36]\n",
    "print(ma_liste)\n",
    "#On peut accéder aux éléments de la liste en utilisant des indices\n",
    "premier_element = ma_liste[0]\n",
    "print(premier_element)\n",
    "#Les listes peuvent être modifiées (ajout, suppression d'éléments)\n",
    "ma_liste.append(6)\n",
    "print(ma_liste)\n",
    "ma_liste.remove(\"quatre\")\n",
    "print(ma_liste)\n",
    "#Avec position precise\n",
    "ma_liste.insert(2, 'nvl_element')\n",
    "print(ma_liste)\n",
    "del ma_liste[1]\n",
    "print(ma_liste)\n",
    "#Obtenir l'indice d'un élément \n",
    "indice = ma_liste.index('nvl_element')\n",
    "print(indice)\n",
    "#Vérifier si un élément est présent dans la liste\n",
    "existe = 'nvl_element' in ma_liste \n",
    "print(existe)\n",
    "#la langueur de la liste \n",
    "longueur = len(ma_liste)\n",
    "print(longueur)\n"
   ]
  },
  {
   "cell_type": "code",
   "execution_count": 24,
   "id": "4c1a02fd-0049-45d5-b7ba-907385cb0de6",
   "metadata": {},
   "outputs": [
    {
     "name": "stdout",
     "output_type": "stream",
     "text": [
      "(1, 'TEST', 2.6, (7, 13))\n",
      "1\n",
      "(3, 5, (1, 'TEST', 2.6, (7, 13)))\n",
      "(1, 'TEST', 2.6, (7, 13))\n",
      "(1, 'TEST', 2.6, (7, 13))\n"
     ]
    }
   ],
   "source": [
    "#les tuples: \n",
    "#une fois créé, il ne peut pas être modifié\n",
    "tuple = (1, 'TEST', 2.6, (7, 13))\n",
    "print(tuple)\n",
    "#On peut accéder aux éléments du tuple en utilisant des indices\n",
    "premier_element = tuple[0]\n",
    "print(premier_element)\n",
    "#concaténation du  tuple\n",
    "nvtuple = (3,5,tuple)\n",
    "print(nvtuple)\n"
   ]
  },
  {
   "cell_type": "code",
   "execution_count": 30,
   "id": "767b2059-e4d6-41cd-a46f-208c20925556",
   "metadata": {},
   "outputs": [
    {
     "name": "stdout",
     "output_type": "stream",
     "text": [
      "{'nom': 'Raouf', 'dep': 'Rsd', 'année': '2024'}\n",
      "dict_keys(['nom', 'dep', 'année'])\n",
      "dict_values(['Raouf', 'Rsd', '2024'])\n",
      "Rsd\n",
      "{'nom': 'Raouf', 'dep': 'Rsd', 'année': '2024', 'semstre': '2'}\n",
      "{'nom': 'Raouf', 'dep': 'Rsd', 'année': '2024'}\n"
     ]
    }
   ],
   "source": [
    "#Dictionnaires \n",
    "#le Dictionnaires est fait de clé et de valeur \n",
    "dict = {'nom': 'Raouf', 'dep':'Rsd' , 'année': '2024'}\n",
    "print(dict)\n",
    "clé=dict.keys()\n",
    "valeur=dict.values()\n",
    "print(clé)\n",
    "print(valeur)\n",
    "#acces a une valeur precise \n",
    "dep=dict['dep']\n",
    "print(dep)\n",
    "#ajout d'une nouvelle valeur \n",
    "dict['semstre']='2'\n",
    "print(dict)\n",
    "#supression d'une clé et valeur \n",
    "del dict['semstre']\n",
    "print(dict)"
   ]
  }
 ],
 "metadata": {
  "kernelspec": {
   "display_name": "Python 3 (ipykernel)",
   "language": "python",
   "name": "python3"
  },
  "language_info": {
   "codemirror_mode": {
    "name": "ipython",
    "version": 3
   },
   "file_extension": ".py",
   "mimetype": "text/x-python",
   "name": "python",
   "nbconvert_exporter": "python",
   "pygments_lexer": "ipython3",
   "version": "3.12.2"
  }
 },
 "nbformat": 4,
 "nbformat_minor": 5
}
