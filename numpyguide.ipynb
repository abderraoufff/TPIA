{
 "cells": [
  {
   "cell_type": "code",
   "execution_count": 6,
   "id": "deee671f-cbf8-47c2-a425-272535e32c22",
   "metadata": {},
   "outputs": [],
   "source": [
    "#import numpy \n",
    "import numpy as np"
   ]
  },
  {
   "cell_type": "code",
   "execution_count": 21,
   "id": "604fa06e-08a4-4890-816d-f44758113427",
   "metadata": {
    "scrolled": true
   },
   "outputs": [
    {
     "name": "stdout",
     "output_type": "stream",
     "text": [
      "['1' '2' 'three' '4' '5']\n",
      "[[0.26035379 0.45887411 0.50851919 0.56066324]\n",
      " [0.36255562 0.15018622 0.5495567  0.75246338]]\n",
      "[ 0  3  6  9 12 15 18 21 24 27]\n",
      "[[0. 0. 0.]\n",
      " [0. 0. 0.]]\n",
      "[[1. 1. 1.]\n",
      " [1. 1. 1.]]\n",
      "[[3 3]\n",
      " [3 3]]\n"
     ]
    }
   ],
   "source": [
    "#creation array \n",
    "array = np.array([1,2,\"three\",4,5])\n",
    "print(array)\n",
    "#avec random values \n",
    "arandom = np.random.rand(2, 4)\n",
    "print(arandom)\n",
    "#avec range (start, stop, step)\n",
    "arrange = np.array(range(0,30,3))\n",
    "print(arrange)\n",
    "#avec que des zeros \n",
    "zeros = np.zeros((2,3))\n",
    "print(zeros)\n",
    "#que du un\n",
    "ones = np.ones((2,3))\n",
    "print(ones)\n",
    "#meme valeur \n",
    "mv = np.full((2,2), 3)\n",
    "print(mv)"
   ]
  },
  {
   "cell_type": "code",
   "execution_count": null,
   "id": "147feb4d-d065-472f-a861-7e0baa5419ef",
   "metadata": {},
   "outputs": [],
   "source": []
  }
 ],
 "metadata": {
  "kernelspec": {
   "display_name": "Python 3 (ipykernel)",
   "language": "python",
   "name": "python3"
  },
  "language_info": {
   "codemirror_mode": {
    "name": "ipython",
    "version": 3
   },
   "file_extension": ".py",
   "mimetype": "text/x-python",
   "name": "python",
   "nbconvert_exporter": "python",
   "pygments_lexer": "ipython3",
   "version": "3.12.2"
  }
 },
 "nbformat": 4,
 "nbformat_minor": 5
}
